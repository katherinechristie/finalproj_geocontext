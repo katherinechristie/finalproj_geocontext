{
 "cells": [
  {
   "cell_type": "code",
   "execution_count": 2,
   "metadata": {},
   "outputs": [
    {
     "name": "stdout",
     "output_type": "stream",
     "text": [
      "Requirement already satisfied: pygeocodio in /Users/Eden/opt/anaconda3/lib/python3.8/site-packages (1.0.0)\n",
      "Requirement already satisfied: requests>=1.0.0 in /Users/Eden/opt/anaconda3/lib/python3.8/site-packages (from pygeocodio) (2.24.0)\n",
      "Requirement already satisfied: certifi>=2017.4.17 in /Users/Eden/opt/anaconda3/lib/python3.8/site-packages (from requests>=1.0.0->pygeocodio) (2020.6.20)\n",
      "Requirement already satisfied: chardet<4,>=3.0.2 in /Users/Eden/opt/anaconda3/lib/python3.8/site-packages (from requests>=1.0.0->pygeocodio) (3.0.4)\n",
      "Requirement already satisfied: urllib3!=1.25.0,!=1.25.1,<1.26,>=1.21.1 in /Users/Eden/opt/anaconda3/lib/python3.8/site-packages (from requests>=1.0.0->pygeocodio) (1.25.11)\n",
      "Requirement already satisfied: idna<3,>=2.5 in /Users/Eden/opt/anaconda3/lib/python3.8/site-packages (from requests>=1.0.0->pygeocodio) (2.10)\n",
      "Note: you may need to restart the kernel to use updated packages.\n",
      "Requirement already satisfied: colorama in /Users/Eden/opt/anaconda3/lib/python3.8/site-packages (0.4.4)\n",
      "Note: you may need to restart the kernel to use updated packages.\n",
      "Requirement already satisfied: python-dotenv in /Users/Eden/opt/anaconda3/lib/python3.8/site-packages (0.17.1)\n",
      "Note: you may need to restart the kernel to use updated packages.\n",
      "Requirement already satisfied: CensusData in /Users/Eden/opt/anaconda3/lib/python3.8/site-packages (1.13)\n",
      "Requirement already satisfied: requests in /Users/Eden/opt/anaconda3/lib/python3.8/site-packages (from CensusData) (2.24.0)\n",
      "Requirement already satisfied: pandas in /Users/Eden/opt/anaconda3/lib/python3.8/site-packages (from CensusData) (1.1.3)\n",
      "Requirement already satisfied: certifi>=2017.4.17 in /Users/Eden/opt/anaconda3/lib/python3.8/site-packages (from requests->CensusData) (2020.6.20)\n",
      "Requirement already satisfied: idna<3,>=2.5 in /Users/Eden/opt/anaconda3/lib/python3.8/site-packages (from requests->CensusData) (2.10)\n",
      "Requirement already satisfied: chardet<4,>=3.0.2 in /Users/Eden/opt/anaconda3/lib/python3.8/site-packages (from requests->CensusData) (3.0.4)\n",
      "Requirement already satisfied: urllib3!=1.25.0,!=1.25.1,<1.26,>=1.21.1 in /Users/Eden/opt/anaconda3/lib/python3.8/site-packages (from requests->CensusData) (1.25.11)\n",
      "Requirement already satisfied: numpy>=1.15.4 in /Users/Eden/opt/anaconda3/lib/python3.8/site-packages (from pandas->CensusData) (1.19.2)\n",
      "Requirement already satisfied: python-dateutil>=2.7.3 in /Users/Eden/opt/anaconda3/lib/python3.8/site-packages (from pandas->CensusData) (2.8.1)\n",
      "Requirement already satisfied: pytz>=2017.2 in /Users/Eden/opt/anaconda3/lib/python3.8/site-packages (from pandas->CensusData) (2020.1)\n",
      "Requirement already satisfied: six>=1.5 in /Users/Eden/opt/anaconda3/lib/python3.8/site-packages (from python-dateutil>=2.7.3->pandas->CensusData) (1.15.0)\n",
      "Note: you may need to restart the kernel to use updated packages.\n",
      "<geocodio.client.GeocodioClient object at 0x7fb8fd181850>\n"
     ]
    }
   ],
   "source": [
    "from math import isnan\n",
    "import os\n",
    "import pandas as pd\n",
    "%pip install pygeocodio\n",
    "from geocodio import GeocodioClient\n",
    "import requests\n",
    "import sqlalchemy\n",
    "%pip install colorama\n",
    "from colorama import Fore, Style\n",
    "from inspect import getframeinfo, stack\n",
    "import smtplib, ssl\n",
    "from datetime import datetime\n",
    "from pytz import timezone\n",
    "from sqlalchemy import create_engine\n",
    "%pip install python-dotenv\n",
    "from dotenv import load_dotenv\n",
    "load_dotenv()\n",
    "%pip install CensusData\n",
    "\n",
    "\n",
    "key = \"a00cb79ec4f97e6760c49740b8ea7a7be6b77bb\"\n",
    "client = GeocodioClient(key)\n",
    "censuskey = \"8105419cada33ca0aaa48b111b8c44b9484e286a\"\n",
    "\n",
    "print(client)\n"
   ]
  },
  {
   "cell_type": "code",
   "execution_count": 3,
   "metadata": {},
   "outputs": [
    {
     "name": "stdout",
     "output_type": "stream",
     "text": [
      "Requirement already satisfied: censusdata in /Users/Eden/opt/anaconda3/lib/python3.8/site-packages (1.13)\n",
      "Requirement already satisfied: pandas in /Users/Eden/opt/anaconda3/lib/python3.8/site-packages (from censusdata) (1.1.3)\n",
      "Requirement already satisfied: requests in /Users/Eden/opt/anaconda3/lib/python3.8/site-packages (from censusdata) (2.24.0)\n",
      "Requirement already satisfied: python-dateutil>=2.7.3 in /Users/Eden/opt/anaconda3/lib/python3.8/site-packages (from pandas->censusdata) (2.8.1)\n",
      "Requirement already satisfied: numpy>=1.15.4 in /Users/Eden/opt/anaconda3/lib/python3.8/site-packages (from pandas->censusdata) (1.19.2)\n",
      "Requirement already satisfied: pytz>=2017.2 in /Users/Eden/opt/anaconda3/lib/python3.8/site-packages (from pandas->censusdata) (2020.1)\n",
      "Requirement already satisfied: certifi>=2017.4.17 in /Users/Eden/opt/anaconda3/lib/python3.8/site-packages (from requests->censusdata) (2020.6.20)\n",
      "Requirement already satisfied: idna<3,>=2.5 in /Users/Eden/opt/anaconda3/lib/python3.8/site-packages (from requests->censusdata) (2.10)\n",
      "Requirement already satisfied: chardet<4,>=3.0.2 in /Users/Eden/opt/anaconda3/lib/python3.8/site-packages (from requests->censusdata) (3.0.4)\n",
      "Requirement already satisfied: urllib3!=1.25.0,!=1.25.1,<1.26,>=1.21.1 in /Users/Eden/opt/anaconda3/lib/python3.8/site-packages (from requests->censusdata) (1.25.11)\n",
      "Requirement already satisfied: six>=1.5 in /Users/Eden/opt/anaconda3/lib/python3.8/site-packages (from python-dateutil>=2.7.3->pandas->censusdata) (1.15.0)\n",
      "Note: you may need to restart the kernel to use updated packages.\n"
     ]
    }
   ],
   "source": [
    "import geopandas as gpd\n",
    "%pip install censusdata\n",
    "import censusdata as cd"
   ]
  },
  {
   "cell_type": "code",
   "execution_count": 4,
   "metadata": {},
   "outputs": [],
   "source": [
    "def myprint(message, is_red=\"\", email_also=\"\"):\n",
    "    try:\n",
    "        if email_also != \"yes\":\n",
    "            frameinfo = getframeinfo((stack()[1][0]))\n",
    "            file_and_line_info = Fore.LIGHTBLUE_EX + \"  (\" + frameinfo.filename.split(\"/\")[-1] + \", line \" + str(frameinfo.lineno) + \")\" + Style.RESET_ALL\n",
    "        else:\n",
    "            file_and_line_info = \"\"\n",
    "        if is_red == \"red\":\n",
    "            print_red(message + file_and_line_info)\n",
    "        else:\n",
    "            print(message + file_and_line_info)\n",
    "    except:\n",
    "        print(message + \"(there was an error with `myprint`)\")\n",
    "        \n",
    "def create_address_from(address, city, state, zip):\n",
    "    return handle_null(address) + \", \" + handle_null(city) + \" \" + handle_null(state) + \" \" + handle_null(str(zip))\n",
    "\n",
    "def handle_null(object):\n",
    "    if pd.isnull(object):\n",
    "        return \"\"\n",
    "    else:\n",
    "        return str(object)\n",
    "    \n",
    "def split_into_parts(a_list, max_items_per_part):\n",
    "    if len(a_list) < max_items_per_part:\n",
    "        return [a_list]\n",
    "    else:\n",
    "        num_parts = len(a_list) // max_items_per_part\n",
    "        res = []\n",
    "        start = 0\n",
    "        end = max_items_per_part\n",
    "        for num in range(num_parts):\n",
    "            res.append(a_list[start:end])\n",
    "\n",
    "            if num != num_parts - 1:\n",
    "                start += max_items_per_part\n",
    "                end += max_items_per_part\n",
    "\n",
    "        res.append(a_list[end:])\n",
    "        return res"
   ]
  },
  {
   "cell_type": "code",
   "execution_count": 6,
   "metadata": {},
   "outputs": [],
   "source": [
    "\n",
    "# geocodes a DataFrame `df`, adding columns for latitude, longitude, accuracy, and accuracy type\n",
    "# worksite_or_housing is either \"worksite\" or \"housing\" and specifies whether to geocode housing or worksite columns\n",
    "# if `check_previously_geocoded, uses the materialized postgres view `previously_geocoded` to geocode addresses that\n",
    "# we've already geocoded without using Geocodio so as to save credits\n",
    "# return the DataFrame with geocoding results columns added\n",
    "\n",
    "def geocode_table(df, worksite_or_housing, check_previously_geocoded=False):\n",
    "    myprint(f\"Geocoding {worksite_or_housing}...\")\n",
    "\n",
    "    if check_previously_geocoded:\n",
    "        make_query(\"REFRESH MATERIALIZED VIEW previously_geocoded\")\n",
    "        \n",
    "        if worksite_or_housing == \"worksite\":\n",
    "            df[\"address_id\"] = df.apply(lambda job: (handle_null(job[\"street_addr_1_txt\"]) + handle_null(job[\"cty_nm\"]) +\n",
    "                                                     handle_null(job[\"st_cd\"]) + handle_null(job[\"zip_cd\"])).lower(), axis=1)\n",
    "        else:\n",
    "            df[\"address_id\"] = df.apply(lambda job: (handle_null(job[\"HOUSING_ADDRESS_LOCATION\"]) + handle_null(job[\"HOUSING_CITY\"]) +\n",
    "                                                     handle_null(job[\"HOUSING_STATE\"]) + handle_null(job[\"HOUSING_POSTAL_CODE\"])).lower(), axis=1)\n",
    "        df[\"previously_geocoded\"] = False\n",
    "        df[f\"{worksite_or_housing}_lat\"] = None\n",
    "        df[f\"{worksite_or_housing}_long\"] = None\n",
    "        df[f\"{worksite_or_housing} accuracy\"] = None\n",
    "        df[f\"{worksite_or_housing} accuracy type\"] = \"\"\n",
    "\n",
    "        errors = 0\n",
    "        for i, job in df.iterrows():\n",
    "            # won't work if the full address has certain special characters. should probably fix this but it's rather rare\n",
    "            try:\n",
    "                previous_geocode = pd.read_sql(f\"\"\"SELECT * FROM previously_geocoded WHERE full_address = '{job[\"address_id\"]}'\"\"\", con=engine)\n",
    "            except:\n",
    "                previous_geocode = pd.DataFrame()\n",
    "                print(f\"\"\"Failed to query previously_geocoded for address '{job[\"address_id\"]}', the {i + 1}th row.\"\"\")\n",
    "                errors += 1\n",
    "            if not previous_geocode.empty:\n",
    "                myprint(f\"\"\"'{job[\"address_id\"]}' - the {i + 1}th row - is previously geocoded.\"\"\")\n",
    "                assert len(previous_geocode) == 1\n",
    "                df.at[i, f\"{worksite_or_housing}_lat\"] = get_value(previous_geocode, \"latitude\")\n",
    "                df.at[i, f\"{worksite_or_housing}_long\"] = get_value(previous_geocode, \"longitude\")\n",
    "                df.at[i, f\"{worksite_or_housing} accuracy\"] = get_value(previous_geocode, \"accuracy\")\n",
    "                df.at[i, f\"{worksite_or_housing} accuracy type\"] = get_value(previous_geocode, \"accuracy_type\")\n",
    "                df.at[i, \"previously_geocoded\"] = True\n",
    "\n",
    "        print(f\"There were {errors} errors checking for previous geocoding.\")\n",
    "        df = df.drop(columns=[\"address_id\"])\n",
    "\n",
    "        previously_geocoded = df[df[\"previously_geocoded\"]]\n",
    "        df = df[~(df[\"previously_geocoded\"])]\n",
    "\n",
    "        print(f\"{len(previously_geocoded)} rows have already been geocoded and {len(df)} rows still need to be geocoded.\")\n",
    "\n",
    "        df = df.drop(columns=[\"previously_geocoded\"])\n",
    "        previously_geocoded.drop(columns=[\"previously_geocoded\"], inplace=True)\n",
    "\n",
    "    if not df.empty:\n",
    "\n",
    "        if worksite_or_housing == \"worksite\":\n",
    "            addresses = df.apply(lambda job: create_address_from(job[\"street_addr_1_txt\"], job[\"cty_nm\"], job[\"st_cd\"], job[\"zip_cd\"]), axis=1).tolist()\n",
    "        elif worksite_or_housing == \"housing\":\n",
    "            addresses = df.apply(lambda job: create_address_from(job[\"HOUSING_ADDRESS_LOCATION\"], job[\"HOUSING_CITY\"], job[\"HOUSING_STATE\"], job[\"HOUSING_POSTAL_CODE\"]), axis=1).tolist()\n",
    "        else:\n",
    "            print_red_and_email(\"`worksite_or_housing` parameter in geocode_table function must be either `worksite` or `housing` or `housing addendum`\", \"Invalid Function Parameter\")\n",
    "            return\n",
    "\n",
    "        # handles case of more than 10000 addresses - because geocodio api won't batch geocode with more than 10000 addresses at once\n",
    "        addresses_split = split_into_parts(addresses, 9999)\n",
    "        geocoding_results = []\n",
    "        for these_addresses in addresses_split:\n",
    "            geocoding_results += client.geocode(these_addresses)\n",
    "        assert len(geocoding_results) == len(addresses)\n",
    "\n",
    "\n",
    "        latitudes, longitudes, accuracies, accuracy_types, i = [], [], [], [], 0\n",
    "        for result in geocoding_results:\n",
    "            try:\n",
    "                results = result['results'][0]\n",
    "                accuracies.append(results['accuracy'])\n",
    "                accuracy_types.append(results['accuracy_type'])\n",
    "                latitudes.append(results['location']['lat'])\n",
    "                longitudes.append(results['location']['lng'])\n",
    "            except:\n",
    "                accuracies.append(None)\n",
    "                accuracy_types.append(None)\n",
    "                latitudes.append(None)\n",
    "                longitudes.append(None)\n",
    "            i +=1\n",
    "\n",
    "        i = len(df.columns)\n",
    "        df[f\"{worksite_or_housing}_lat\"] = latitudes\n",
    "        df[f\"{worksite_or_housing}_long\"] = longitudes\n",
    "        df[f\"{worksite_or_housing} accuracy\"] = accuracies\n",
    "        df[f\"{worksite_or_housing} accuracy type\"] = accuracy_types\n",
    "        myprint(f\"Finished geocoding {worksite_or_housing}.\")\n",
    "\n",
    "    if check_previously_geocoded:\n",
    "        df = df.append(previously_geocoded)\n",
    "\n",
    "    # # uncomment to save excel file with geocoding results\n",
    "    # now = datetime.now(tz=timezone('US/Eastern')).strftime(\"%I.%M%.%S_%p_%B_%d_%Y\")\n",
    "    # df.to_excel(f\"geocoded_{now}.xlsx\")\n",
    "    # myprint(\"Backed up geocoding results\")\n",
    "\n",
    "    return df\n",
    "\n",
    "# geocodes `df` and returns two dataframes - one with accuratly geocoded rows and one with inaccurate rows\n",
    "def geocode_and_split_by_accuracy(df, table=\"\"):\n",
    "    if table == \"dol_h2b\":\n",
    "        df = geocode_table(df, \"worksite\", check_previously_geocoded=True)\n",
    "    elif table == \"housing addendum\":\n",
    "        df = geocode_table(df, \"housing\", check_previously_geocoded=True)\n",
    "    elif table == \"dol_h2a\":\n",
    "        df = geocode_table(df, \"worksite\", check_previously_geocoded=True)\n",
    "        df = geocode_table(df, \"housing\", check_previously_geocoded=True)\n",
    "    else:\n",
    "        df = geocode_table(df, \"worksite\")\n",
    "        if \"HOUSING_ADDRESS_LOCATION\" in df.columns:\n",
    "            df = geocode_table(df, \"housing\")\n",
    "        else:\n",
    "            print_red_and_email(\"Not geocoding housing because HOUSING_ADDRESS_LOCATION is not present. This should be fine, and hopefully just means there were only H-2B jobs in today's run, but you may want to check.\", \"Not geocoding housing today\")\n",
    "\n",
    "    housing_addendum = (table == \"housing addendum\")\n",
    "    accurate = df.apply(lambda job: is_accurate(job, housing_addendum=housing_addendum), axis=1)\n",
    "    accurate_jobs, inaccurate_jobs = df.copy()[accurate], df.copy()[~accurate]\n",
    "    inaccurate_jobs[\"fixed\"] = False\n",
    "\n",
    "    myprint(f\"There were {len(accurate_jobs)} accurate jobs.\\nThere were {len(inaccurate_jobs)} inaccurate jobs.\")\n",
    "\n",
    "    return accurate_jobs, inaccurate_jobs"
   ]
  },
  {
   "cell_type": "code",
   "execution_count": 7,
   "metadata": {},
   "outputs": [
    {
     "name": "stdout",
     "output_type": "stream",
     "text": [
      "raw dataframe has 110 columns and 313928 rows\n"
     ]
    }
   ],
   "source": [
    "url = \"https://enfxfr.dol.gov/data_catalog/WHD/whd_whisard_20210415.csv.zip\"\n",
    "raw_dol = pd.read_csv(url, \n",
    "                      index_col=None,\n",
    "                      dtype={7:'string'})\n",
    "raw_dol['findings_start_date'] = pd.to_datetime(raw_dol['findings_start_date'], errors='coerce')\n",
    "raw_dol['findings_end_date'] = pd.to_datetime(raw_dol['findings_end_date'], errors='coerce')\n",
    "print(f'raw dataframe has {len(raw_dol.columns)} columns and {len(raw_dol)} rows')"
   ]
  },
  {
   "cell_type": "code",
   "execution_count": 49,
   "metadata": {},
   "outputs": [
    {
     "data": {
      "text/plain": [
       "32374     2016-11-07 01:00:04 EST\n",
       "32578     2016-11-07 01:00:04 EST\n",
       "32689     2016-11-07 01:00:04 EST\n",
       "33130     2016-11-07 01:00:04 EST\n",
       "33515     2016-11-07 01:00:04 EST\n",
       "                   ...           \n",
       "313236    2021-04-15 00:18:42 EDT\n",
       "313237    2021-04-15 00:18:42 EDT\n",
       "313238    2021-04-15 00:18:42 EDT\n",
       "313239    2021-04-15 00:18:42 EDT\n",
       "313477    2021-04-15 00:18:42 EDT\n",
       "Name: ld_dt, Length: 329, dtype: object"
      ]
     },
     "execution_count": 49,
     "metadata": {},
     "output_type": "execute_result"
    }
   ],
   "source": [
    "list_states= ['TX', 'MS', 'LA', 'KY', 'AL', 'TN']\n",
    "raw_dol_states = raw_dol[raw_dol[\"st_cd\"].isin(list_states)]\n",
    "raw_dol_states = raw_dol_states[raw_dol_states[\"h2a_violtn_cnt\"] > 0]\n",
    "raw_dol_states = raw_dol_states[raw_dol_states[\"ld_dt\"] >= \"2016-1-1\"]\n",
    "#raw_dol_states = raw_dol_states[[\"street_addr_1_txt\", \"cty_nm\", \"st_cd\", \"zip_cd\", \"naic_cd\", \"h2a_violtn_cnt\"]]\n",
    "# 806 rows\n",
    "raw_dol_states.ld_dt"
   ]
  },
  {
   "cell_type": "code",
   "execution_count": 51,
   "metadata": {},
   "outputs": [],
   "source": [
    "def subset_state(data, abbr):\n",
    "    df = data[data[\"st_cd\"] == abbr].copy()\n",
    "    geo_tab = geocode_table(df, \"worksite\", check_previously_geocoded=False)\n",
    "    gdf = gpd.GeoDataFrame(geo_tab, \n",
    "                             geometry=gpd.points_from_xy(geo_tab.worksite_long, geo_tab.worksite_lat))\n",
    "    return(gdf)\n",
    "\n"
   ]
  },
  {
   "cell_type": "code",
   "execution_count": 52,
   "metadata": {},
   "outputs": [
    {
     "name": "stdout",
     "output_type": "stream",
     "text": [
      "Geocoding worksite...\u001b[94m  (<ipython-input-6-ab3785178427>, line 8)\u001b[0m\n",
      "Finished geocoding worksite.\u001b[94m  (<ipython-input-6-ab3785178427>, line 92)\u001b[0m\n",
      "Geocoding worksite...\u001b[94m  (<ipython-input-6-ab3785178427>, line 8)\u001b[0m\n",
      "Finished geocoding worksite.\u001b[94m  (<ipython-input-6-ab3785178427>, line 92)\u001b[0m\n",
      "Geocoding worksite...\u001b[94m  (<ipython-input-6-ab3785178427>, line 8)\u001b[0m\n",
      "Finished geocoding worksite.\u001b[94m  (<ipython-input-6-ab3785178427>, line 92)\u001b[0m\n",
      "Geocoding worksite...\u001b[94m  (<ipython-input-6-ab3785178427>, line 8)\u001b[0m\n",
      "Finished geocoding worksite.\u001b[94m  (<ipython-input-6-ab3785178427>, line 92)\u001b[0m\n",
      "Geocoding worksite...\u001b[94m  (<ipython-input-6-ab3785178427>, line 8)\u001b[0m\n",
      "Finished geocoding worksite.\u001b[94m  (<ipython-input-6-ab3785178427>, line 92)\u001b[0m\n",
      "Geocoding worksite...\u001b[94m  (<ipython-input-6-ab3785178427>, line 8)\u001b[0m\n",
      "Finished geocoding worksite.\u001b[94m  (<ipython-input-6-ab3785178427>, line 92)\u001b[0m\n"
     ]
    }
   ],
   "source": [
    "texas = subset_state(raw_dol_states, \"TX\")\n",
    "mississippi = subset_state(raw_dol_states, \"MS\")\n",
    "louisiana = subset_state(raw_dol_states, \"LA\")\n",
    "kentucky = subset_state(raw_dol_states, \"KY\")\n",
    "tennessee = subset_state(raw_dol_states, \"TN\")\n",
    "alabama = subset_state(raw_dol_states, \"AL\")"
   ]
  },
  {
   "cell_type": "code",
   "execution_count": 53,
   "metadata": {},
   "outputs": [
    {
     "name": "stdout",
     "output_type": "stream",
     "text": [
      "<class 'geopandas.geodataframe.GeoDataFrame'>\n",
      "Int64Index: 29 entries, 218317 to 311513\n",
      "Columns: 115 entries, case_id to geometry\n",
      "dtypes: datetime64[ns](2), float64(45), geometry(1), int64(57), object(9), string(1)\n",
      "memory usage: 26.3+ KB\n"
     ]
    }
   ],
   "source": [
    "censuskey = \"8105419cada33ca0aaa48b111b8c44b9484e286a\"\n",
    "test = requests.get(\"https://api.census.gov/data/2020/dec/responserate?get=NAME,GEO_ID,DRRALL,CRRINT,RESP_DATE,CRRALL,DRRINT&for=tract:*&in=state:01&key=8105419cada33ca0aaa48b111b8c44b9484e286a\")\n",
    "\n",
    "\n",
    "#shape = requests.get(\"https://api.census.gov/geographies/mapping-files/time-series/geo/tiger-line-file.html\n",
    "#print(test)\n",
    "\n",
    "alabama.info()\n"
   ]
  },
  {
   "cell_type": "code",
   "execution_count": 13,
   "metadata": {},
   "outputs": [
    {
     "name": "stdout",
     "output_type": "stream",
     "text": [
      "Requirement already satisfied: geopandas in /Users/Eden/opt/anaconda3/lib/python3.8/site-packages (0.9.0)\n",
      "Requirement already satisfied: pandas>=0.24.0 in /Users/Eden/opt/anaconda3/lib/python3.8/site-packages (from geopandas) (1.1.3)\n",
      "Requirement already satisfied: shapely>=1.6 in /Users/Eden/opt/anaconda3/lib/python3.8/site-packages (from geopandas) (1.7.1)\n",
      "Requirement already satisfied: pyproj>=2.2.0 in /Users/Eden/opt/anaconda3/lib/python3.8/site-packages (from geopandas) (3.1.0)\n",
      "Requirement already satisfied: fiona>=1.8 in /Users/Eden/opt/anaconda3/lib/python3.8/site-packages (from geopandas) (1.8.19)\n",
      "Requirement already satisfied: python-dateutil>=2.7.3 in /Users/Eden/opt/anaconda3/lib/python3.8/site-packages (from pandas>=0.24.0->geopandas) (2.8.1)\n",
      "Requirement already satisfied: numpy>=1.15.4 in /Users/Eden/opt/anaconda3/lib/python3.8/site-packages (from pandas>=0.24.0->geopandas) (1.19.2)\n",
      "Requirement already satisfied: pytz>=2017.2 in /Users/Eden/opt/anaconda3/lib/python3.8/site-packages (from pandas>=0.24.0->geopandas) (2020.1)\n",
      "Requirement already satisfied: certifi in /Users/Eden/opt/anaconda3/lib/python3.8/site-packages (from pyproj>=2.2.0->geopandas) (2020.6.20)\n",
      "Requirement already satisfied: munch in /Users/Eden/opt/anaconda3/lib/python3.8/site-packages (from fiona>=1.8->geopandas) (2.5.0)\n",
      "Requirement already satisfied: six>=1.7 in /Users/Eden/opt/anaconda3/lib/python3.8/site-packages (from fiona>=1.8->geopandas) (1.15.0)\n",
      "Requirement already satisfied: attrs>=17 in /Users/Eden/opt/anaconda3/lib/python3.8/site-packages (from fiona>=1.8->geopandas) (20.3.0)\n",
      "Requirement already satisfied: click<8,>=4.0 in /Users/Eden/opt/anaconda3/lib/python3.8/site-packages (from fiona>=1.8->geopandas) (7.1.2)\n",
      "Requirement already satisfied: cligj>=0.5 in /Users/Eden/opt/anaconda3/lib/python3.8/site-packages (from fiona>=1.8->geopandas) (0.7.1)\n",
      "Requirement already satisfied: click-plugins>=1.0 in /Users/Eden/opt/anaconda3/lib/python3.8/site-packages (from fiona>=1.8->geopandas) (1.1.1)\n",
      "Note: you may need to restart the kernel to use updated packages.\n"
     ]
    }
   ],
   "source": [
    "%pip install geopandas\n",
    "al_data = gpd.read_file(\"../tl_2016_01_tract\")\n",
    "ky_data = gpd.read_file(\"../tl_2016_21_tract\")\n",
    "la_data = gpd.read_file(\"../tl_2016_22_tract\")\n",
    "ms_data = gpd.read_file(\"../tl_2016_28_tract\")\n",
    "tn_data = gpd.read_file(\"../tl_2016_47_tract\")\n",
    "tx_data = gpd.read_file(\"../tl_2016_48_tract\")\n"
   ]
  },
  {
   "cell_type": "code",
   "execution_count": 14,
   "metadata": {},
   "outputs": [],
   "source": [
    "%matplotlib inline\n",
    "from shapely.geometry import Point\n",
    "from geopandas import datasets, GeoDataFrame, read_file\n",
    "from geopandas.tools import overlay, sjoin"
   ]
  },
  {
   "cell_type": "code",
   "execution_count": 54,
   "metadata": {},
   "outputs": [
    {
     "name": "stderr",
     "output_type": "stream",
     "text": [
      "<ipython-input-54-5f53cb70540b>:1: UserWarning: CRS mismatch between the CRS of left geometries and the CRS of right geometries.\n",
      "Use `to_crs()` to reproject one of the input geometries to match the CRS of the other.\n",
      "\n",
      "Left CRS: None\n",
      "Right CRS: EPSG:4269\n",
      "\n",
      "  alabama_join = sjoin(alabama, al_data, how=\"inner\", op = \"intersects\")\n",
      "<ipython-input-54-5f53cb70540b>:2: UserWarning: CRS mismatch between the CRS of left geometries and the CRS of right geometries.\n",
      "Use `to_crs()` to reproject one of the input geometries to match the CRS of the other.\n",
      "\n",
      "Left CRS: None\n",
      "Right CRS: EPSG:4269\n",
      "\n",
      "  louisiana_join = sjoin(louisiana, la_data, how=\"inner\", op = \"intersects\")\n",
      "<ipython-input-54-5f53cb70540b>:3: UserWarning: CRS mismatch between the CRS of left geometries and the CRS of right geometries.\n",
      "Use `to_crs()` to reproject one of the input geometries to match the CRS of the other.\n",
      "\n",
      "Left CRS: None\n",
      "Right CRS: EPSG:4269\n",
      "\n",
      "  kentucky_join = sjoin(kentucky, ky_data, how=\"inner\", op = \"intersects\")\n",
      "<ipython-input-54-5f53cb70540b>:4: UserWarning: CRS mismatch between the CRS of left geometries and the CRS of right geometries.\n",
      "Use `to_crs()` to reproject one of the input geometries to match the CRS of the other.\n",
      "\n",
      "Left CRS: None\n",
      "Right CRS: EPSG:4269\n",
      "\n",
      "  tennessee_join = sjoin(tennessee, tn_data, how=\"inner\", op = \"intersects\")\n",
      "<ipython-input-54-5f53cb70540b>:5: UserWarning: CRS mismatch between the CRS of left geometries and the CRS of right geometries.\n",
      "Use `to_crs()` to reproject one of the input geometries to match the CRS of the other.\n",
      "\n",
      "Left CRS: None\n",
      "Right CRS: EPSG:4269\n",
      "\n",
      "  texas_join = sjoin(texas, tx_data, how=\"inner\", op = \"intersects\")\n",
      "<ipython-input-54-5f53cb70540b>:6: UserWarning: CRS mismatch between the CRS of left geometries and the CRS of right geometries.\n",
      "Use `to_crs()` to reproject one of the input geometries to match the CRS of the other.\n",
      "\n",
      "Left CRS: None\n",
      "Right CRS: EPSG:4269\n",
      "\n",
      "  mississippi_join = sjoin(mississippi, ms_data, how=\"inner\", op = \"intersects\")\n"
     ]
    }
   ],
   "source": [
    "alabama_join = sjoin(alabama, al_data, how=\"inner\", op = \"intersects\")\n",
    "louisiana_join = sjoin(louisiana, la_data, how=\"inner\", op = \"intersects\")\n",
    "kentucky_join = sjoin(kentucky, ky_data, how=\"inner\", op = \"intersects\")\n",
    "tennessee_join = sjoin(tennessee, tn_data, how=\"inner\", op = \"intersects\")\n",
    "texas_join = sjoin(texas, tx_data, how=\"inner\", op = \"intersects\")\n",
    "mississippi_join = sjoin(mississippi, ms_data, how=\"inner\", op = \"intersects\")"
   ]
  },
  {
   "cell_type": "code",
   "execution_count": 17,
   "metadata": {},
   "outputs": [
    {
     "name": "stdout",
     "output_type": "stream",
     "text": [
      "<class 'geopandas.geodataframe.GeoDataFrame'>\n",
      "Int64Index: 118 entries, 174 to 313238\n",
      "Columns: 128 entries, case_id to INTPTLON\n",
      "dtypes: datetime64[ns](2), float64(45), geometry(1), int64(60), object(19), string(1)\n",
      "memory usage: 118.9+ KB\n"
     ]
    }
   ],
   "source": [
    "mississippi_join.info()\n",
    "#something is wrong with this "
   ]
  },
  {
   "cell_type": "code",
   "execution_count": 276,
   "metadata": {},
   "outputs": [
    {
     "data": {
      "text/html": [
       "<div>\n",
       "<style scoped>\n",
       "    .dataframe tbody tr th:only-of-type {\n",
       "        vertical-align: middle;\n",
       "    }\n",
       "\n",
       "    .dataframe tbody tr th {\n",
       "        vertical-align: top;\n",
       "    }\n",
       "\n",
       "    .dataframe thead th {\n",
       "        text-align: right;\n",
       "    }\n",
       "</style>\n",
       "<table border=\"1\" class=\"dataframe\">\n",
       "  <thead>\n",
       "    <tr style=\"text-align: right;\">\n",
       "      <th></th>\n",
       "      <th>GEOID</th>\n",
       "      <th>case_id</th>\n",
       "      <th>zip_cd</th>\n",
       "      <th>h2a_violtn_cnt</th>\n",
       "      <th>worksite_lat</th>\n",
       "      <th>worksite_long</th>\n",
       "    </tr>\n",
       "  </thead>\n",
       "  <tbody>\n",
       "    <tr>\n",
       "      <th>0</th>\n",
       "      <td>01003010703</td>\n",
       "      <td>3661237</td>\n",
       "      <td>73052.0</td>\n",
       "      <td>2</td>\n",
       "      <td>61.177742</td>\n",
       "      <td>-175.642059</td>\n",
       "    </tr>\n",
       "    <tr>\n",
       "      <th>1</th>\n",
       "      <td>01003010903</td>\n",
       "      <td>1830614</td>\n",
       "      <td>36551.0</td>\n",
       "      <td>1</td>\n",
       "      <td>30.580945</td>\n",
       "      <td>-87.776318</td>\n",
       "    </tr>\n",
       "    <tr>\n",
       "      <th>2</th>\n",
       "      <td>01005950400</td>\n",
       "      <td>1650094</td>\n",
       "      <td>36016.0</td>\n",
       "      <td>12</td>\n",
       "      <td>31.721210</td>\n",
       "      <td>-85.464301</td>\n",
       "    </tr>\n",
       "    <tr>\n",
       "      <th>3</th>\n",
       "      <td>01011952200</td>\n",
       "      <td>1828252</td>\n",
       "      <td>36089.0</td>\n",
       "      <td>1</td>\n",
       "      <td>32.142191</td>\n",
       "      <td>-85.742406</td>\n",
       "    </tr>\n",
       "    <tr>\n",
       "      <th>4</th>\n",
       "      <td>01021060102</td>\n",
       "      <td>3720022</td>\n",
       "      <td>70090.0</td>\n",
       "      <td>4</td>\n",
       "      <td>65.709027</td>\n",
       "      <td>-173.267166</td>\n",
       "    </tr>\n",
       "  </tbody>\n",
       "</table>\n",
       "</div>"
      ],
      "text/plain": [
       "         GEOID  case_id   zip_cd  h2a_violtn_cnt  worksite_lat  worksite_long\n",
       "0  01003010703  3661237  73052.0               2     61.177742    -175.642059\n",
       "1  01003010903  1830614  36551.0               1     30.580945     -87.776318\n",
       "2  01005950400  1650094  36016.0              12     31.721210     -85.464301\n",
       "3  01011952200  1828252  36089.0               1     32.142191     -85.742406\n",
       "4  01021060102  3720022  70090.0               4     65.709027    -173.267166"
      ]
     },
     "execution_count": 276,
     "metadata": {},
     "output_type": "execute_result"
    }
   ],
   "source": [
    "final = pd.concat([alabama_join, texas_join, tennessee_join, kentucky_join, louisiana_join, mississippi_join], ignore_index = True)\n",
    "final = final[[\"case_id\", \"trade_nm\" ,\"legal_name\",\"street_addr_1_txt\", \"cty_nm\", \"st_cd\", \"zip_cd\", \"h2a_violtn_cnt\", \"worksite_lat\", \"worksite_long\", \"TRACTCE\", \"GEOID\", \"geometry\"]]\n",
    "#print(final)\n",
    "sum_violations = final.groupby(\"GEOID\").sum(\"h2a_violtn_cnt\")\n",
    "len(sum_violations.case_id.unique())\n",
    "sum_violations = pd.DataFrame(sum_violations).reset_index()\n",
    "sum_violations.head()"
   ]
  },
  {
   "cell_type": "code",
   "execution_count": 65,
   "metadata": {},
   "outputs": [],
   "source": [
    "# clean geo ID\n",
    "# load ACS data\n",
    "# add leading zeros to geo id\n",
    "# subset to tracts in the 6 states\n",
    "#merge\n",
    "# merge to geo data on acs demographics\n",
    "# left join to violations based on geo id\n",
    "# if missing in join violations = 0"
   ]
  },
  {
   "cell_type": "code",
   "execution_count": 20,
   "metadata": {},
   "outputs": [
    {
     "name": "stdout",
     "output_type": "stream",
     "text": [
      "Requirement already satisfied: census in /Users/Eden/opt/anaconda3/lib/python3.8/site-packages (0.8.17)\n",
      "Requirement already satisfied: requests>=1.1.0 in /Users/Eden/opt/anaconda3/lib/python3.8/site-packages (from census) (2.24.0)\n",
      "Requirement already satisfied: certifi>=2017.4.17 in /Users/Eden/opt/anaconda3/lib/python3.8/site-packages (from requests>=1.1.0->census) (2020.6.20)\n",
      "Requirement already satisfied: chardet<4,>=3.0.2 in /Users/Eden/opt/anaconda3/lib/python3.8/site-packages (from requests>=1.1.0->census) (3.0.4)\n",
      "Requirement already satisfied: idna<3,>=2.5 in /Users/Eden/opt/anaconda3/lib/python3.8/site-packages (from requests>=1.1.0->census) (2.10)\n",
      "Requirement already satisfied: urllib3!=1.25.0,!=1.25.1,<1.26,>=1.21.1 in /Users/Eden/opt/anaconda3/lib/python3.8/site-packages (from requests>=1.1.0->census) (1.25.11)\n",
      "Note: you may need to restart the kernel to use updated packages.\n"
     ]
    }
   ],
   "source": [
    "%pip install census\n",
    "#!pip install us\n",
    "from census import Census"
   ]
  },
  {
   "cell_type": "code",
   "execution_count": 44,
   "metadata": {},
   "outputs": [],
   "source": [
    "c = Census(\"8105419cada33ca0aaa48b111b8c44b9484e286a\")\n",
    "\n",
    "def demographics(variables_list, state_code):\n",
    "    list_dem = c.acs5.state_county_tract(\n",
    "        variables_list,\n",
    "        state_fips=state_code,\n",
    "        year = 2016,\n",
    "        county_fips=Census.ALL,\n",
    "        tract=Census.ALL)\n",
    "    df = pd.DataFrame(list_dem)\n",
    "    return df"
   ]
  },
  {
   "cell_type": "code",
   "execution_count": 56,
   "metadata": {},
   "outputs": [],
   "source": [
    "var_names = [\"B03001_003E\", \"B01003_001E\", \"NAME\"]\n",
    "\n",
    "texas = demographics(var_names, \"48\")\n",
    "mississippi = demographics(var_names, \"28\")\n",
    "louisiana = demographics(var_names, \"22\")\n",
    "alabama = demographics(var_names, \"01\")\n",
    "tennessee = demographics(var_names, \"47\")\n",
    "kentucky = demographics(var_names, \"21\")"
   ]
  },
  {
   "cell_type": "code",
   "execution_count": 273,
   "metadata": {},
   "outputs": [
    {
     "data": {
      "text/html": [
       "<div>\n",
       "<style scoped>\n",
       "    .dataframe tbody tr th:only-of-type {\n",
       "        vertical-align: middle;\n",
       "    }\n",
       "\n",
       "    .dataframe tbody tr th {\n",
       "        vertical-align: top;\n",
       "    }\n",
       "\n",
       "    .dataframe thead th {\n",
       "        text-align: right;\n",
       "    }\n",
       "</style>\n",
       "<table border=\"1\" class=\"dataframe\">\n",
       "  <thead>\n",
       "    <tr style=\"text-align: right;\">\n",
       "      <th></th>\n",
       "      <th>index</th>\n",
       "      <th>B03001_003E</th>\n",
       "      <th>B01003_001E</th>\n",
       "      <th>NAME</th>\n",
       "      <th>state</th>\n",
       "      <th>tract</th>\n",
       "      <th>county</th>\n",
       "      <th>state_abbrv</th>\n",
       "      <th>perc_hispanic</th>\n",
       "    </tr>\n",
       "  </thead>\n",
       "  <tbody>\n",
       "    <tr>\n",
       "      <th>0</th>\n",
       "      <td>0</td>\n",
       "      <td>2424.0</td>\n",
       "      <td>6580.0</td>\n",
       "      <td>Census Tract 3503, Harris County, Texas</td>\n",
       "      <td>48</td>\n",
       "      <td>350300</td>\n",
       "      <td>201</td>\n",
       "      <td>TX</td>\n",
       "      <td>0.368389</td>\n",
       "    </tr>\n",
       "    <tr>\n",
       "      <th>1</th>\n",
       "      <td>1</td>\n",
       "      <td>742.0</td>\n",
       "      <td>5458.0</td>\n",
       "      <td>Census Tract 4102, Harris County, Texas</td>\n",
       "      <td>48</td>\n",
       "      <td>410200</td>\n",
       "      <td>201</td>\n",
       "      <td>TX</td>\n",
       "      <td>0.135947</td>\n",
       "    </tr>\n",
       "    <tr>\n",
       "      <th>2</th>\n",
       "      <td>2</td>\n",
       "      <td>550.0</td>\n",
       "      <td>3396.0</td>\n",
       "      <td>Census Tract 4113, Harris County, Texas</td>\n",
       "      <td>48</td>\n",
       "      <td>411300</td>\n",
       "      <td>201</td>\n",
       "      <td>TX</td>\n",
       "      <td>0.161955</td>\n",
       "    </tr>\n",
       "    <tr>\n",
       "      <th>3</th>\n",
       "      <td>3</td>\n",
       "      <td>259.0</td>\n",
       "      <td>3458.0</td>\n",
       "      <td>Census Tract 4119, Harris County, Texas</td>\n",
       "      <td>48</td>\n",
       "      <td>411900</td>\n",
       "      <td>201</td>\n",
       "      <td>TX</td>\n",
       "      <td>0.074899</td>\n",
       "    </tr>\n",
       "    <tr>\n",
       "      <th>4</th>\n",
       "      <td>4</td>\n",
       "      <td>1091.0</td>\n",
       "      <td>2605.0</td>\n",
       "      <td>Census Tract 4202, Harris County, Texas</td>\n",
       "      <td>48</td>\n",
       "      <td>420200</td>\n",
       "      <td>201</td>\n",
       "      <td>TX</td>\n",
       "      <td>0.418810</td>\n",
       "    </tr>\n",
       "  </tbody>\n",
       "</table>\n",
       "</div>"
      ],
      "text/plain": [
       "   index  B03001_003E  B01003_001E                                     NAME  \\\n",
       "0      0       2424.0       6580.0  Census Tract 3503, Harris County, Texas   \n",
       "1      1        742.0       5458.0  Census Tract 4102, Harris County, Texas   \n",
       "2      2        550.0       3396.0  Census Tract 4113, Harris County, Texas   \n",
       "3      3        259.0       3458.0  Census Tract 4119, Harris County, Texas   \n",
       "4      4       1091.0       2605.0  Census Tract 4202, Harris County, Texas   \n",
       "\n",
       "  state   tract county state_abbrv  perc_hispanic  \n",
       "0    48  350300    201          TX       0.368389  \n",
       "1    48  410200    201          TX       0.135947  \n",
       "2    48  411300    201          TX       0.161955  \n",
       "3    48  411900    201          TX       0.074899  \n",
       "4    48  420200    201          TX       0.418810  "
      ]
     },
     "execution_count": 273,
     "metadata": {},
     "output_type": "execute_result"
    }
   ],
   "source": [
    "final_df = pd.concat([texas, mississippi, louisiana, alabama, tennessee, kentucky])\n",
    "final_df[\"perc_hispanic\"] = final_df[\"B03001_003E\"]/final_df[\"B01003_001E\"]\n",
    "final_df[\"state_abbrv\"] = final_df[\"state\"].replace({\"48\": \"TX\", \"28\": \"MS\", \"22\": \"LA\", \"01\": \"AL\", \"47\": \"TN\", \"21\": \"KY\"})\n",
    "final_df_subset = final_df[[\"B03001_003E\", \"B01003_001E\", \"NAME\", \"state\", \n",
    "                            \"tract\", \"county\", \"state_abbrv\", \"perc_hispanic\"]].reset_index()\n",
    "final_df_subset.head()"
   ]
  },
  {
   "cell_type": "code",
   "execution_count": 277,
   "metadata": {},
   "outputs": [
    {
     "data": {
      "text/plain": [
       "232"
      ]
     },
     "execution_count": 277,
     "metadata": {},
     "output_type": "execute_result"
    }
   ],
   "source": [
    "final_df_subset[\"GEOID_pasted\"] = final_df_subset.state.astype(str) + final_df_subset.county.astype(str) + final_df_subset.tract.astype(str)\n",
    "\n",
    "final_df_subset.head()\n",
    "final_df_subset.GEOID_pasted.str.len().value_counts()\n",
    "len(set(final_df_subset.GEOID_pasted.unique()).intersection(set(final.GEOID.unique())))\n",
    "final.head()\n",
    "len(sum_violations.GEOID.unique())"
   ]
  },
  {
   "cell_type": "code",
   "execution_count": 226,
   "metadata": {},
   "outputs": [
    {
     "data": {
      "text/plain": [
       "-173.267166    1\n",
       "-87.776318     1\n",
       "-174.589965    1\n",
       "-88.345820     1\n",
       "-175.642059    1\n",
       "-85.996576     1\n",
       "-85.742406     1\n",
       "-86.483290     1\n",
       "-87.549795     1\n",
       "-85.696652     1\n",
       "-176.551198    1\n",
       "-170.445930    1\n",
       "-86.132381     1\n",
       "-171.828256    1\n",
       "-260.149498    1\n",
       "-88.240145     1\n",
       "-88.343410     1\n",
       "-88.292927     1\n",
       "-88.272544     1\n",
       "-85.464301     1\n",
       "-87.688789     1\n",
       "Name: Longitude, dtype: int64"
      ]
     },
     "execution_count": 226,
     "metadata": {},
     "output_type": "execute_result"
    }
   ],
   "source": [
    "merge = pd.merge(final_df_subset, sum_violations, how = \"left\", left_on = \"GEOID_pasted\", right_on = \"GEOID\", suffixes = [\"_acs\", \"_violations\"], indicator = \"_inviol\")\n",
    "#merge.drop_duplicates\n",
    "merge.head()\n",
    "merge[\"Latitude\"] = merge[\"worksite_lat\"]\n",
    "merge[\"Longitude\"] = merge[\"worksite_long\"]\n",
    "merge.Longitude.value_counts()\n",
    "\n",
    "alabama_to_merge = merge[merge[\"state\"] == \"01\"]\n",
    "#alabama_to_merge.Longitude.value_counts()\n",
    "#merge[[\"street_addr_1_txt\", \"st_cd\", \"h2a_violtn_cnt\", \"tract\", \"TRACTCE\", \"perc_hispanic\"]]"
   ]
  },
  {
   "cell_type": "code",
   "execution_count": 258,
   "metadata": {},
   "outputs": [
    {
     "name": "stdout",
     "output_type": "stream",
     "text": [
      "1181\n"
     ]
    },
    {
     "name": "stderr",
     "output_type": "stream",
     "text": [
      "<ipython-input-258-c5161acb1efa>:9: SettingWithCopyWarning: \n",
      "A value is trying to be set on a copy of a slice from a DataFrame.\n",
      "Try using .loc[row_indexer,col_indexer] = value instead\n",
      "\n",
      "See the caveats in the documentation: https://pandas.pydata.org/pandas-docs/stable/user_guide/indexing.html#returning-a-view-versus-a-copy\n",
      "  alabama_to_merge[\"geometry\"] = (alabama_to_merge[['Latitude', 'Longitude']].itertuples(index=False))\n"
     ]
    }
   ],
   "source": [
    "al_shp = gpd.read_file(\"../cb_2016_01_tract_500k\")\n",
    "print(len(alabama_to_merge))\n",
    "\n",
    "alabama_plot = pd.merge(al_shp, alabama_to_merge, how = \"left\", left_on = \"GEOID\", right_on = \"GEOID_pasted\", suffixes = [\"_shape\", \"_violations\"], indicator = \"merge\")\n",
    "\n",
    "alabama_plot[\"merge\"].value_counts()\n",
    "alabama_plot[\"perc_hispanic\"] = alabama_plot[\"perc_hispanic\"]*100\n",
    "\n",
    "## trying to create a geometry column out of the lat and long column\n",
    "## unsuccessful\n"
   ]
  },
  {
   "cell_type": "code",
   "execution_count": 257,
   "metadata": {},
   "outputs": [
    {
     "name": "stdout",
     "output_type": "stream",
     "text": [
      "<zip object at 0x7fb8ee9fc580>    1181\n",
      "Name: geometry, dtype: int64\n"
     ]
    }
   ],
   "source": [
    "print(alabama_to_merge.geometry.value_counts())"
   ]
  },
  {
   "cell_type": "code",
   "execution_count": 254,
   "metadata": {},
   "outputs": [
    {
     "ename": "AttributeError",
     "evalue": "No geometry data set yet (expected in column 'geometry'.)",
     "output_type": "error",
     "traceback": [
      "\u001b[0;31m---------------------------------------------------------------------------\u001b[0m",
      "\u001b[0;31mAttributeError\u001b[0m                            Traceback (most recent call last)",
      "\u001b[0;32m<ipython-input-254-959209361bf4>\u001b[0m in \u001b[0;36m<module>\u001b[0;34m\u001b[0m\n\u001b[1;32m      8\u001b[0m \u001b[0mdivider\u001b[0m \u001b[0;34m=\u001b[0m \u001b[0mmake_axes_locatable\u001b[0m\u001b[0;34m(\u001b[0m\u001b[0max\u001b[0m\u001b[0;34m)\u001b[0m\u001b[0;34m\u001b[0m\u001b[0;34m\u001b[0m\u001b[0m\n\u001b[1;32m      9\u001b[0m \u001b[0mcax\u001b[0m \u001b[0;34m=\u001b[0m \u001b[0mdivider\u001b[0m\u001b[0;34m.\u001b[0m\u001b[0mappend_axes\u001b[0m\u001b[0;34m(\u001b[0m\u001b[0;34m\"right\"\u001b[0m\u001b[0;34m,\u001b[0m \u001b[0msize\u001b[0m\u001b[0;34m=\u001b[0m\u001b[0;34m\"5%\"\u001b[0m\u001b[0;34m,\u001b[0m \u001b[0mpad\u001b[0m\u001b[0;34m=\u001b[0m\u001b[0;36m0.1\u001b[0m\u001b[0;34m)\u001b[0m\u001b[0;34m\u001b[0m\u001b[0;34m\u001b[0m\u001b[0m\n\u001b[0;32m---> 10\u001b[0;31m alabama_plot.plot(ax=ax, \n\u001b[0m\u001b[1;32m     11\u001b[0m                         \u001b[0mcolumn\u001b[0m\u001b[0;34m=\u001b[0m\u001b[0;34m'perc_hispanic'\u001b[0m\u001b[0;34m,\u001b[0m\u001b[0;34m\u001b[0m\u001b[0;34m\u001b[0m\u001b[0m\n\u001b[1;32m     12\u001b[0m                         \u001b[0mcmap\u001b[0m\u001b[0;34m=\u001b[0m\u001b[0;34m'Purples'\u001b[0m\u001b[0;34m,\u001b[0m\u001b[0;34m\u001b[0m\u001b[0;34m\u001b[0m\u001b[0m\n",
      "\u001b[0;32m~/opt/anaconda3/lib/python3.8/site-packages/geopandas/plotting.py\u001b[0m in \u001b[0;36m__call__\u001b[0;34m(self, *args, **kwargs)\u001b[0m\n\u001b[1;32m    923\u001b[0m             \u001b[0mkind\u001b[0m \u001b[0;34m=\u001b[0m \u001b[0mkwargs\u001b[0m\u001b[0;34m.\u001b[0m\u001b[0mpop\u001b[0m\u001b[0;34m(\u001b[0m\u001b[0;34m\"kind\"\u001b[0m\u001b[0;34m,\u001b[0m \u001b[0;34m\"geo\"\u001b[0m\u001b[0;34m)\u001b[0m\u001b[0;34m\u001b[0m\u001b[0;34m\u001b[0m\u001b[0m\n\u001b[1;32m    924\u001b[0m             \u001b[0;32mif\u001b[0m \u001b[0mkind\u001b[0m \u001b[0;34m==\u001b[0m \u001b[0;34m\"geo\"\u001b[0m\u001b[0;34m:\u001b[0m\u001b[0;34m\u001b[0m\u001b[0;34m\u001b[0m\u001b[0m\n\u001b[0;32m--> 925\u001b[0;31m                 \u001b[0;32mreturn\u001b[0m \u001b[0mplot_dataframe\u001b[0m\u001b[0;34m(\u001b[0m\u001b[0mdata\u001b[0m\u001b[0;34m,\u001b[0m \u001b[0;34m*\u001b[0m\u001b[0margs\u001b[0m\u001b[0;34m,\u001b[0m \u001b[0;34m**\u001b[0m\u001b[0mkwargs\u001b[0m\u001b[0;34m)\u001b[0m\u001b[0;34m\u001b[0m\u001b[0;34m\u001b[0m\u001b[0m\n\u001b[0m\u001b[1;32m    926\u001b[0m             \u001b[0;32mif\u001b[0m \u001b[0mkind\u001b[0m \u001b[0;32min\u001b[0m \u001b[0mself\u001b[0m\u001b[0;34m.\u001b[0m\u001b[0m_pandas_kinds\u001b[0m\u001b[0;34m:\u001b[0m\u001b[0;34m\u001b[0m\u001b[0;34m\u001b[0m\u001b[0m\n\u001b[1;32m    927\u001b[0m                 \u001b[0;31m# Access pandas plots\u001b[0m\u001b[0;34m\u001b[0m\u001b[0;34m\u001b[0m\u001b[0;34m\u001b[0m\u001b[0m\n",
      "\u001b[0;32m~/opt/anaconda3/lib/python3.8/site-packages/geopandas/plotting.py\u001b[0m in \u001b[0;36mplot_dataframe\u001b[0;34m(df, column, cmap, color, ax, cax, categorical, legend, scheme, k, vmin, vmax, markersize, figsize, legend_kwds, categories, classification_kwds, missing_kwds, aspect, **style_kwds)\u001b[0m\n\u001b[1;32m    660\u001b[0m     \u001b[0;32mif\u001b[0m \u001b[0maspect\u001b[0m \u001b[0;34m==\u001b[0m \u001b[0;34m\"auto\"\u001b[0m\u001b[0;34m:\u001b[0m\u001b[0;34m\u001b[0m\u001b[0;34m\u001b[0m\u001b[0m\n\u001b[1;32m    661\u001b[0m         \u001b[0;32mif\u001b[0m \u001b[0mdf\u001b[0m\u001b[0;34m.\u001b[0m\u001b[0mcrs\u001b[0m \u001b[0;32mand\u001b[0m \u001b[0mdf\u001b[0m\u001b[0;34m.\u001b[0m\u001b[0mcrs\u001b[0m\u001b[0;34m.\u001b[0m\u001b[0mis_geographic\u001b[0m\u001b[0;34m:\u001b[0m\u001b[0;34m\u001b[0m\u001b[0;34m\u001b[0m\u001b[0m\n\u001b[0;32m--> 662\u001b[0;31m             \u001b[0mbounds\u001b[0m \u001b[0;34m=\u001b[0m \u001b[0mdf\u001b[0m\u001b[0;34m.\u001b[0m\u001b[0mtotal_bounds\u001b[0m\u001b[0;34m\u001b[0m\u001b[0;34m\u001b[0m\u001b[0m\n\u001b[0m\u001b[1;32m    663\u001b[0m             \u001b[0my_coord\u001b[0m \u001b[0;34m=\u001b[0m \u001b[0mnp\u001b[0m\u001b[0;34m.\u001b[0m\u001b[0mmean\u001b[0m\u001b[0;34m(\u001b[0m\u001b[0;34m[\u001b[0m\u001b[0mbounds\u001b[0m\u001b[0;34m[\u001b[0m\u001b[0;36m1\u001b[0m\u001b[0;34m]\u001b[0m\u001b[0;34m,\u001b[0m \u001b[0mbounds\u001b[0m\u001b[0;34m[\u001b[0m\u001b[0;36m3\u001b[0m\u001b[0;34m]\u001b[0m\u001b[0;34m]\u001b[0m\u001b[0;34m)\u001b[0m\u001b[0;34m\u001b[0m\u001b[0;34m\u001b[0m\u001b[0m\n\u001b[1;32m    664\u001b[0m             \u001b[0max\u001b[0m\u001b[0;34m.\u001b[0m\u001b[0mset_aspect\u001b[0m\u001b[0;34m(\u001b[0m\u001b[0;36m1\u001b[0m \u001b[0;34m/\u001b[0m \u001b[0mnp\u001b[0m\u001b[0;34m.\u001b[0m\u001b[0mcos\u001b[0m\u001b[0;34m(\u001b[0m\u001b[0my_coord\u001b[0m \u001b[0;34m*\u001b[0m \u001b[0mnp\u001b[0m\u001b[0;34m.\u001b[0m\u001b[0mpi\u001b[0m \u001b[0;34m/\u001b[0m \u001b[0;36m180\u001b[0m\u001b[0;34m)\u001b[0m\u001b[0;34m)\u001b[0m\u001b[0;34m\u001b[0m\u001b[0;34m\u001b[0m\u001b[0m\n",
      "\u001b[0;32m~/opt/anaconda3/lib/python3.8/site-packages/pandas/core/generic.py\u001b[0m in \u001b[0;36m__getattr__\u001b[0;34m(self, name)\u001b[0m\n\u001b[1;32m   5137\u001b[0m             \u001b[0;32mif\u001b[0m \u001b[0mself\u001b[0m\u001b[0;34m.\u001b[0m\u001b[0m_info_axis\u001b[0m\u001b[0;34m.\u001b[0m\u001b[0m_can_hold_identifiers_and_holds_name\u001b[0m\u001b[0;34m(\u001b[0m\u001b[0mname\u001b[0m\u001b[0;34m)\u001b[0m\u001b[0;34m:\u001b[0m\u001b[0;34m\u001b[0m\u001b[0;34m\u001b[0m\u001b[0m\n\u001b[1;32m   5138\u001b[0m                 \u001b[0;32mreturn\u001b[0m \u001b[0mself\u001b[0m\u001b[0;34m[\u001b[0m\u001b[0mname\u001b[0m\u001b[0;34m]\u001b[0m\u001b[0;34m\u001b[0m\u001b[0;34m\u001b[0m\u001b[0m\n\u001b[0;32m-> 5139\u001b[0;31m             \u001b[0;32mreturn\u001b[0m \u001b[0mobject\u001b[0m\u001b[0;34m.\u001b[0m\u001b[0m__getattribute__\u001b[0m\u001b[0;34m(\u001b[0m\u001b[0mself\u001b[0m\u001b[0;34m,\u001b[0m \u001b[0mname\u001b[0m\u001b[0;34m)\u001b[0m\u001b[0;34m\u001b[0m\u001b[0;34m\u001b[0m\u001b[0m\n\u001b[0m\u001b[1;32m   5140\u001b[0m \u001b[0;34m\u001b[0m\u001b[0m\n\u001b[1;32m   5141\u001b[0m     \u001b[0;32mdef\u001b[0m \u001b[0m__setattr__\u001b[0m\u001b[0;34m(\u001b[0m\u001b[0mself\u001b[0m\u001b[0;34m,\u001b[0m \u001b[0mname\u001b[0m\u001b[0;34m:\u001b[0m \u001b[0mstr\u001b[0m\u001b[0;34m,\u001b[0m \u001b[0mvalue\u001b[0m\u001b[0;34m)\u001b[0m \u001b[0;34m->\u001b[0m \u001b[0;32mNone\u001b[0m\u001b[0;34m:\u001b[0m\u001b[0;34m\u001b[0m\u001b[0;34m\u001b[0m\u001b[0m\n",
      "\u001b[0;32m~/opt/anaconda3/lib/python3.8/site-packages/geopandas/base.py\u001b[0m in \u001b[0;36mtotal_bounds\u001b[0;34m(self)\u001b[0m\n\u001b[1;32m   2575\u001b[0m         \u001b[0marray\u001b[0m\u001b[0;34m(\u001b[0m\u001b[0;34m[\u001b[0m \u001b[0;36m0.\u001b[0m\u001b[0;34m,\u001b[0m \u001b[0;34m-\u001b[0m\u001b[0;36m1.\u001b[0m\u001b[0;34m,\u001b[0m  \u001b[0;36m3.\u001b[0m\u001b[0;34m,\u001b[0m  \u001b[0;36m2.\u001b[0m\u001b[0;34m]\u001b[0m\u001b[0;34m)\u001b[0m\u001b[0;34m\u001b[0m\u001b[0;34m\u001b[0m\u001b[0m\n\u001b[1;32m   2576\u001b[0m         \"\"\"\n\u001b[0;32m-> 2577\u001b[0;31m         \u001b[0;32mreturn\u001b[0m \u001b[0mGeometryArray\u001b[0m\u001b[0;34m(\u001b[0m\u001b[0mself\u001b[0m\u001b[0;34m.\u001b[0m\u001b[0mgeometry\u001b[0m\u001b[0;34m.\u001b[0m\u001b[0mvalues\u001b[0m\u001b[0;34m)\u001b[0m\u001b[0;34m.\u001b[0m\u001b[0mtotal_bounds\u001b[0m\u001b[0;34m\u001b[0m\u001b[0;34m\u001b[0m\u001b[0m\n\u001b[0m\u001b[1;32m   2578\u001b[0m \u001b[0;34m\u001b[0m\u001b[0m\n\u001b[1;32m   2579\u001b[0m     \u001b[0;34m@\u001b[0m\u001b[0mproperty\u001b[0m\u001b[0;34m\u001b[0m\u001b[0;34m\u001b[0m\u001b[0m\n",
      "\u001b[0;32m~/opt/anaconda3/lib/python3.8/site-packages/pandas/core/generic.py\u001b[0m in \u001b[0;36m__getattr__\u001b[0;34m(self, name)\u001b[0m\n\u001b[1;32m   5137\u001b[0m             \u001b[0;32mif\u001b[0m \u001b[0mself\u001b[0m\u001b[0;34m.\u001b[0m\u001b[0m_info_axis\u001b[0m\u001b[0;34m.\u001b[0m\u001b[0m_can_hold_identifiers_and_holds_name\u001b[0m\u001b[0;34m(\u001b[0m\u001b[0mname\u001b[0m\u001b[0;34m)\u001b[0m\u001b[0;34m:\u001b[0m\u001b[0;34m\u001b[0m\u001b[0;34m\u001b[0m\u001b[0m\n\u001b[1;32m   5138\u001b[0m                 \u001b[0;32mreturn\u001b[0m \u001b[0mself\u001b[0m\u001b[0;34m[\u001b[0m\u001b[0mname\u001b[0m\u001b[0;34m]\u001b[0m\u001b[0;34m\u001b[0m\u001b[0;34m\u001b[0m\u001b[0m\n\u001b[0;32m-> 5139\u001b[0;31m             \u001b[0;32mreturn\u001b[0m \u001b[0mobject\u001b[0m\u001b[0;34m.\u001b[0m\u001b[0m__getattribute__\u001b[0m\u001b[0;34m(\u001b[0m\u001b[0mself\u001b[0m\u001b[0;34m,\u001b[0m \u001b[0mname\u001b[0m\u001b[0;34m)\u001b[0m\u001b[0;34m\u001b[0m\u001b[0;34m\u001b[0m\u001b[0m\n\u001b[0m\u001b[1;32m   5140\u001b[0m \u001b[0;34m\u001b[0m\u001b[0m\n\u001b[1;32m   5141\u001b[0m     \u001b[0;32mdef\u001b[0m \u001b[0m__setattr__\u001b[0m\u001b[0;34m(\u001b[0m\u001b[0mself\u001b[0m\u001b[0;34m,\u001b[0m \u001b[0mname\u001b[0m\u001b[0;34m:\u001b[0m \u001b[0mstr\u001b[0m\u001b[0;34m,\u001b[0m \u001b[0mvalue\u001b[0m\u001b[0;34m)\u001b[0m \u001b[0;34m->\u001b[0m \u001b[0;32mNone\u001b[0m\u001b[0;34m:\u001b[0m\u001b[0;34m\u001b[0m\u001b[0;34m\u001b[0m\u001b[0m\n",
      "\u001b[0;32m~/opt/anaconda3/lib/python3.8/site-packages/geopandas/geodataframe.py\u001b[0m in \u001b[0;36m_get_geometry\u001b[0;34m(self)\u001b[0m\n\u001b[1;32m    184\u001b[0m     \u001b[0;32mdef\u001b[0m \u001b[0m_get_geometry\u001b[0m\u001b[0;34m(\u001b[0m\u001b[0mself\u001b[0m\u001b[0;34m)\u001b[0m\u001b[0;34m:\u001b[0m\u001b[0;34m\u001b[0m\u001b[0;34m\u001b[0m\u001b[0m\n\u001b[1;32m    185\u001b[0m         \u001b[0;32mif\u001b[0m \u001b[0mself\u001b[0m\u001b[0;34m.\u001b[0m\u001b[0m_geometry_column_name\u001b[0m \u001b[0;32mnot\u001b[0m \u001b[0;32min\u001b[0m \u001b[0mself\u001b[0m\u001b[0;34m:\u001b[0m\u001b[0;34m\u001b[0m\u001b[0;34m\u001b[0m\u001b[0m\n\u001b[0;32m--> 186\u001b[0;31m             raise AttributeError(\n\u001b[0m\u001b[1;32m    187\u001b[0m                 \u001b[0;34m\"No geometry data set yet (expected in\"\u001b[0m\u001b[0;34m\u001b[0m\u001b[0;34m\u001b[0m\u001b[0m\n\u001b[1;32m    188\u001b[0m                 \u001b[0;34m\" column '%s'.)\"\u001b[0m \u001b[0;34m%\u001b[0m \u001b[0mself\u001b[0m\u001b[0;34m.\u001b[0m\u001b[0m_geometry_column_name\u001b[0m\u001b[0;34m\u001b[0m\u001b[0;34m\u001b[0m\u001b[0m\n",
      "\u001b[0;31mAttributeError\u001b[0m: No geometry data set yet (expected in column 'geometry'.)"
     ]
    },
    {
     "data": {
      "image/png": "[encoded data removed]",
      "text/plain": [
       "<Figure size 864x864 with 2 Axes>"
      ]
     },
     "metadata": {
      "needs_background": "light"
     },
     "output_type": "display_data"
    }
   ],
   "source": [
    "import matplotlib.pyplot as plt\n",
    "from mpl_toolkits.axes_grid1 import make_axes_locatable\n",
    "\n",
    "\n",
    "#alabama_plot.plot()\n",
    "\n",
    "fig, ax = plt.subplots(figsize=(12,12))\n",
    "divider = make_axes_locatable(ax)\n",
    "cax = divider.append_axes(\"right\", size=\"5%\", pad=0.1)\n",
    "alabama_plot.plot(ax=ax, \n",
    "                        column='perc_hispanic', \n",
    "                        cmap='Purples',\n",
    "                        edgecolor='grey',\n",
    "                        linewidth = .1,\n",
    "                        legend=True, \n",
    "                        cax=cax,\n",
    "                        missing_kwds={\"color\": \"lightgrey\"})\n",
    "alabama_to_merge.plot(ax=ax, column = \"h2a_violtn_cnt\", color = \"red\")\n",
    "#ax.scatter(x = \"worksite_long\", y = \"worksite_lat\", marker=\"*\", color='r', alpha=0.7, s = \"h2a_violtn_cnt\")\n",
    "#alabama_plot.plot(x = \"worksite_long\", y = \"worksite_lat\", column = \"h2a_violtn_cnt\", ax = ax, kind = \"scatter\")\n",
    "ax.set_title('Alabama', fontsize=20)\n",
    "fig.patch.set_visible(False)\n",
    "ax.axis('off')\n",
    "plt.tight_layout()\n",
    "#plt.savefig('images/choropleth.png')"
   ]
  },
  {
   "cell_type": "code",
   "execution_count": null,
   "metadata": {},
   "outputs": [],
   "source": []
  }
 ],
 "metadata": {
  "kernelspec": {
   "display_name": "Python 3",
   "language": "python",
   "name": "python3"
  },
  "language_info": {
   "codemirror_mode": {
    "name": "ipython",
    "version": 3
   },
   "file_extension": ".py",
   "mimetype": "text/x-python",
   "name": "python",
   "nbconvert_exporter": "python",
   "pygments_lexer": "ipython3",
   "version": "3.8.5"
  }
 },
 "nbformat": 4,
 "nbformat_minor": 5
}
